{
  "nbformat": 4,
  "nbformat_minor": 0,
  "metadata": {
    "colab": {
      "provenance": []
    },
    "kernelspec": {
      "name": "python3",
      "display_name": "Python 3"
    },
    "language_info": {
      "name": "python"
    }
  },
  "cells": [
    {
      "cell_type": "code",
      "execution_count": null,
      "metadata": {
        "id": "6301QFKJbIs1",
        "colab": {
          "base_uri": "https://localhost:8080/"
        },
        "outputId": "50a82d07-098b-45a9-dd25-755be9e805e3"
      },
      "outputs": [
        {
          "output_type": "stream",
          "name": "stdout",
          "text": [
            "Mounted at /content/drive\n"
          ]
        }
      ],
      "source": [
        "from google.colab import drive\n",
        "drive.mount(\"/content/drive\")"
      ]
    },
    {
      "cell_type": "code",
      "source": [
        "!pwd"
      ],
      "metadata": {
        "colab": {
          "base_uri": "https://localhost:8080/"
        },
        "id": "EyZkaMMVcAQH",
        "outputId": "4190a472-2d4b-47ba-bfb6-92217ed8a4fc"
      },
      "execution_count": null,
      "outputs": [
        {
          "output_type": "stream",
          "name": "stdout",
          "text": [
            "/content\n"
          ]
        }
      ]
    },
    {
      "cell_type": "code",
      "source": [
        "!ls"
      ],
      "metadata": {
        "colab": {
          "base_uri": "https://localhost:8080/"
        },
        "id": "wdsBF0fbcaFZ",
        "outputId": "2631d046-92c4-40ec-920c-c9f76c6c56dc"
      },
      "execution_count": null,
      "outputs": [
        {
          "output_type": "stream",
          "name": "stdout",
          "text": [
            "drive  sample_data\n"
          ]
        }
      ]
    },
    {
      "cell_type": "code",
      "source": [
        "!cd drive"
      ],
      "metadata": {
        "id": "2PSj5ZYccmWr"
      },
      "execution_count": null,
      "outputs": []
    },
    {
      "cell_type": "code",
      "source": [
        "!ls /content/drive/MyDrive/data.csv"
      ],
      "metadata": {
        "colab": {
          "base_uri": "https://localhost:8080/"
        },
        "id": "LrpR-aCSdIPc",
        "outputId": "c5c076f3-ab28-4b97-b57b-a7a000248c26"
      },
      "execution_count": null,
      "outputs": [
        {
          "output_type": "stream",
          "name": "stdout",
          "text": [
            "/content/drive/MyDrive/data.csv\n"
          ]
        }
      ]
    },
    {
      "cell_type": "code",
      "source": [
        "import pandas as pd\n",
        "df=pd.read_csv(\"/content/drive/MyDrive/data.csv\")"
      ],
      "metadata": {
        "id": "D1xWFWBHdOUj"
      },
      "execution_count": null,
      "outputs": []
    },
    {
      "cell_type": "markdown",
      "source": [],
      "metadata": {
        "id": "yUjdB7tGiIcI"
      }
    },
    {
      "cell_type": "code",
      "source": [
        "df = df.dropna(axis=1)"
      ],
      "metadata": {
        "id": "fvHPZsUKdaCw"
      },
      "execution_count": null,
      "outputs": []
    },
    {
      "cell_type": "code",
      "source": [
        "import seaborn as sns"
      ],
      "metadata": {
        "id": "AbCnNtS9d-9a"
      },
      "execution_count": null,
      "outputs": []
    },
    {
      "cell_type": "code",
      "source": [
        "from sklearn.preprocessing import LabelEncoder\n",
        "lb=LabelEncoder()"
      ],
      "metadata": {
        "id": "KndbKqe6eCrE"
      },
      "execution_count": null,
      "outputs": []
    },
    {
      "cell_type": "code",
      "source": [
        "df.iloc[:, 1]=lb.fit_transform(df.iloc[:, 1].values)"
      ],
      "metadata": {
        "id": "OtkWrIgmeHIb"
      },
      "execution_count": null,
      "outputs": []
    },
    {
      "cell_type": "code",
      "source": [
        "import matplotlib.pyplot as plt"
      ],
      "metadata": {
        "id": "2a4pKiGBeI3b"
      },
      "execution_count": null,
      "outputs": []
    },
    {
      "cell_type": "code",
      "source": [
        "from sklearn.model_selection import train_test_split\n",
        "from sklearn.preprocessing import StandardScaler"
      ],
      "metadata": {
        "id": "W1wRDbSjeL1D"
      },
      "execution_count": null,
      "outputs": []
    },
    {
      "cell_type": "code",
      "source": [
        "# Applying label encoding\n",
        "lb = LabelEncoder()\n",
        "df['diagnosis'] = lb.fit_transform(df['diagnosis'].values)\n",
        "\n",
        "# Checking the distribution of the encoded target variable\n",
        "print(df['diagnosis'].value_counts())\n",
        "\n",
        "# Splitting data into features and labels\n",
        "X = df.iloc[:, 2:32].values\n",
        "y = df.iloc[:, 1].values\n",
        "\n",
        "# Splitting the data\n",
        "X_train, X_test, y_train, y_test = train_test_split(X, y, test_size=0.2, random_state=0)\n",
        "\n",
        "scaler = StandardScaler()\n",
        "X_train = scaler.fit_transform(X_train)\n",
        "X_test = scaler.transform(X_test)"
      ],
      "metadata": {
        "colab": {
          "base_uri": "https://localhost:8080/"
        },
        "id": "fsLrq2w1eW8q",
        "outputId": "e1507e07-ea4c-4c1a-cff5-020fd405dd8c"
      },
      "execution_count": null,
      "outputs": [
        {
          "output_type": "stream",
          "name": "stdout",
          "text": [
            "diagnosis\n",
            "0    357\n",
            "1    212\n",
            "Name: count, dtype: int64\n"
          ]
        }
      ]
    },
    {
      "cell_type": "code",
      "source": [
        "from tensorflow.keras.models import Sequential\n",
        "from tensorflow.keras.layers import Dense\n",
        "from sklearn.metrics import accuracy_score, classification_report\n",
        "\n",
        "# Build the ANN model\n",
        "model = Sequential([\n",
        "    Dense(64, activation='relu', input_shape=(X_train.shape[1],)),\n",
        "    Dense(32, activation='relu'),\n",
        "    Dense(1, activation='sigmoid')\n",
        "])\n",
        "\n",
        "# Compiling\n",
        "model.compile(optimizer='adam', loss='binary_crossentropy', metrics=['accuracy'])\n",
        "\n",
        "# Training\n",
        "model.fit(X_train, y_train, epochs=10, batch_size=32, verbose=1)\n",
        "\n",
        "# performance of the model\n",
        "y_pred = model.predict(X_test)\n",
        "y_pred_binary = (y_pred > 0.5).astype(int)\n",
        "accuracy = accuracy_score(y_test, y_pred_binary)\n",
        "print(\"Accuracy:\", accuracy)\n",
        "\n",
        "#classification report\n",
        "print(\"Classification Report:\")\n",
        "print(classification_report(y_test, y_pred_binary))"
      ],
      "metadata": {
        "id": "dRM-NANaefiS",
        "colab": {
          "base_uri": "https://localhost:8080/"
        },
        "outputId": "7203ff1e-3833-4186-8d9c-c850ccc2e932"
      },
      "execution_count": null,
      "outputs": [
        {
          "output_type": "stream",
          "name": "stdout",
          "text": [
            "Epoch 1/10\n",
            "15/15 [==============================] - 1s 2ms/step - loss: 0.3981 - accuracy: 0.9319\n",
            "Epoch 2/10\n",
            "15/15 [==============================] - 0s 2ms/step - loss: 0.2032 - accuracy: 0.9516\n",
            "Epoch 3/10\n",
            "15/15 [==============================] - 0s 2ms/step - loss: 0.1347 - accuracy: 0.9626\n",
            "Epoch 4/10\n",
            "15/15 [==============================] - 0s 2ms/step - loss: 0.1061 - accuracy: 0.9758\n",
            "Epoch 5/10\n",
            "15/15 [==============================] - 0s 2ms/step - loss: 0.0890 - accuracy: 0.9758\n",
            "Epoch 6/10\n",
            "15/15 [==============================] - 0s 2ms/step - loss: 0.0796 - accuracy: 0.9780\n",
            "Epoch 7/10\n",
            "15/15 [==============================] - 0s 2ms/step - loss: 0.0709 - accuracy: 0.9824\n",
            "Epoch 8/10\n",
            "15/15 [==============================] - 0s 2ms/step - loss: 0.0654 - accuracy: 0.9824\n",
            "Epoch 9/10\n",
            "15/15 [==============================] - 0s 2ms/step - loss: 0.0607 - accuracy: 0.9846\n",
            "Epoch 10/10\n",
            "15/15 [==============================] - 0s 2ms/step - loss: 0.0576 - accuracy: 0.9868\n",
            "4/4 [==============================] - 0s 3ms/step\n",
            "Accuracy: 0.956140350877193\n",
            "Classification Report:\n",
            "              precision    recall  f1-score   support\n",
            "\n",
            "           0       0.96      0.97      0.96        67\n",
            "           1       0.96      0.94      0.95        47\n",
            "\n",
            "    accuracy                           0.96       114\n",
            "   macro avg       0.96      0.95      0.95       114\n",
            "weighted avg       0.96      0.96      0.96       114\n",
            "\n"
          ]
        }
      ]
    },
    {
      "cell_type": "code",
      "source": [
        "import numpy as np\n",
        "from sklearn.model_selection import train_test_split\n",
        "from sklearn.datasets import load_breast_cancer\n",
        "from sklearn.preprocessing import StandardScaler\n",
        "import tensorflow as tf\n",
        "from tensorflow.keras import layers, models\n",
        "\n",
        "# Split the data into training and testing sets\n",
        "X_train, X_test, y_train, y_test = train_test_split(X, y, test_size=0.2, random_state=42)\n",
        "\n",
        "# Standardize the data\n",
        "scaler = StandardScaler()\n",
        "X_train = scaler.fit_transform(X_train)\n",
        "X_test = scaler.transform(X_test)\n",
        "\n",
        "# Reshape data for CNN input (add channel dimension)train = X_train.reshape(-1, X.shape[1], 1)\n",
        "X_test = X_test.reshape(-1, X.shape[1], 1)\n",
        "\n",
        "# Building the CNN model\n",
        "model = models.Sequential([\n",
        "    layers.Conv1D(32, kernel_size=3, activation='relu', input_shape=(X_train.shape[1], 1)),\n",
        "    layers.MaxPooling1D(pool_size=2),\n",
        "    layers.Conv1D(64, kernel_size=3, activation='relu'),\n",
        "    layers.MaxPooling1D(pool_size=2),\n",
        "    layers.Flatten(),\n",
        "    layers.Dense(128, activation='relu'),\n",
        "    layers.Dense(1, activation='sigmoid')\n",
        "])\n",
        "\n",
        "# Compiling the model\n",
        "model.compile(optimizer='adam', loss='binary_crossentropy', metrics=['accuracy'])\n",
        "\n",
        "# Training the model\n",
        "history = model.fit(X_train, y_train, epochs=20, batch_size=32, validation_data=(X_test, y_test), verbose=2)\n",
        "\n",
        "# Evaluating  the model\n",
        "loss, accuracy = model.evaluate(X_test, y_test)\n",
        "print(f'Test Loss: {loss}, Test Accuracy: {accuracy}')"
      ],
      "metadata": {
        "colab": {
          "base_uri": "https://localhost:8080/"
        },
        "id": "icGaNkkbE5EN",
        "outputId": "8032d3b1-87a1-42ff-a9b8-9c4765fb9ff0"
      },
      "execution_count": null,
      "outputs": [
        {
          "output_type": "stream",
          "name": "stdout",
          "text": [
            "Epoch 1/20\n",
            "15/15 - 2s - loss: 0.4518 - accuracy: 0.8681 - val_loss: 0.1900 - val_accuracy: 0.9386 - 2s/epoch - 136ms/step\n",
            "Epoch 2/20\n",
            "15/15 - 0s - loss: 0.1895 - accuracy: 0.9209 - val_loss: 0.1047 - val_accuracy: 0.9649 - 99ms/epoch - 7ms/step\n",
            "Epoch 3/20\n",
            "15/15 - 0s - loss: 0.1387 - accuracy: 0.9495 - val_loss: 0.0861 - val_accuracy: 0.9649 - 111ms/epoch - 7ms/step\n",
            "Epoch 4/20\n",
            "15/15 - 0s - loss: 0.0983 - accuracy: 0.9648 - val_loss: 0.0682 - val_accuracy: 0.9561 - 96ms/epoch - 6ms/step\n",
            "Epoch 5/20\n",
            "15/15 - 0s - loss: 0.0875 - accuracy: 0.9714 - val_loss: 0.0644 - val_accuracy: 0.9649 - 98ms/epoch - 7ms/step\n",
            "Epoch 6/20\n",
            "15/15 - 0s - loss: 0.0755 - accuracy: 0.9736 - val_loss: 0.0787 - val_accuracy: 0.9561 - 108ms/epoch - 7ms/step\n",
            "Epoch 7/20\n",
            "15/15 - 0s - loss: 0.0827 - accuracy: 0.9692 - val_loss: 0.0644 - val_accuracy: 0.9737 - 108ms/epoch - 7ms/step\n",
            "Epoch 8/20\n",
            "15/15 - 0s - loss: 0.0742 - accuracy: 0.9780 - val_loss: 0.0599 - val_accuracy: 0.9649 - 111ms/epoch - 7ms/step\n",
            "Epoch 9/20\n",
            "15/15 - 0s - loss: 0.0679 - accuracy: 0.9758 - val_loss: 0.0755 - val_accuracy: 0.9561 - 103ms/epoch - 7ms/step\n",
            "Epoch 10/20\n",
            "15/15 - 0s - loss: 0.0646 - accuracy: 0.9802 - val_loss: 0.0636 - val_accuracy: 0.9561 - 97ms/epoch - 6ms/step\n",
            "Epoch 11/20\n",
            "15/15 - 0s - loss: 0.0578 - accuracy: 0.9802 - val_loss: 0.0589 - val_accuracy: 0.9737 - 111ms/epoch - 7ms/step\n",
            "Epoch 12/20\n",
            "15/15 - 0s - loss: 0.0636 - accuracy: 0.9758 - val_loss: 0.0786 - val_accuracy: 0.9649 - 113ms/epoch - 8ms/step\n",
            "Epoch 13/20\n",
            "15/15 - 0s - loss: 0.0486 - accuracy: 0.9846 - val_loss: 0.0569 - val_accuracy: 0.9649 - 111ms/epoch - 7ms/step\n",
            "Epoch 14/20\n",
            "15/15 - 0s - loss: 0.0569 - accuracy: 0.9802 - val_loss: 0.0582 - val_accuracy: 0.9561 - 117ms/epoch - 8ms/step\n",
            "Epoch 15/20\n",
            "15/15 - 0s - loss: 0.0496 - accuracy: 0.9824 - val_loss: 0.0600 - val_accuracy: 0.9649 - 114ms/epoch - 8ms/step\n",
            "Epoch 16/20\n",
            "15/15 - 0s - loss: 0.0406 - accuracy: 0.9868 - val_loss: 0.0547 - val_accuracy: 0.9825 - 118ms/epoch - 8ms/step\n",
            "Epoch 17/20\n",
            "15/15 - 0s - loss: 0.0444 - accuracy: 0.9824 - val_loss: 0.0576 - val_accuracy: 0.9561 - 121ms/epoch - 8ms/step\n",
            "Epoch 18/20\n",
            "15/15 - 0s - loss: 0.0405 - accuracy: 0.9890 - val_loss: 0.0643 - val_accuracy: 0.9561 - 133ms/epoch - 9ms/step\n",
            "Epoch 19/20\n",
            "15/15 - 0s - loss: 0.0374 - accuracy: 0.9890 - val_loss: 0.0546 - val_accuracy: 0.9649 - 121ms/epoch - 8ms/step\n",
            "Epoch 20/20\n",
            "15/15 - 0s - loss: 0.0328 - accuracy: 0.9890 - val_loss: 0.0555 - val_accuracy: 0.9825 - 154ms/epoch - 10ms/step\n",
            "4/4 [==============================] - 0s 9ms/step - loss: 0.0555 - accuracy: 0.9825\n",
            "Test Loss: 0.05546577274799347, Test Accuracy: 0.9824561476707458\n"
          ]
        }
      ]
    }
  ]
}